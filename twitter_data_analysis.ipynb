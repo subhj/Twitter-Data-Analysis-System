{
  "nbformat": 4,
  "nbformat_minor": 0,
  "metadata": {
    "colab": {
      "provenance": [],
      "authorship_tag": "ABX9TyP3Qm4lZ11c3KH51F9nL1WU",
      "include_colab_link": true
    },
    "kernelspec": {
      "name": "python3",
      "display_name": "Python 3"
    },
    "language_info": {
      "name": "python"
    }
  },
  "cells": [
    {
      "cell_type": "markdown",
      "metadata": {
        "id": "view-in-github",
        "colab_type": "text"
      },
      "source": [
        "<a href=\"https://colab.research.google.com/github/subhj/Twitter-Data-Analysis-System/blob/main/twitter_data_analysis.ipynb\" target=\"_parent\"><img src=\"https://colab.research.google.com/assets/colab-badge.svg\" alt=\"Open In Colab\"/></a>"
      ]
    },
    {
      "cell_type": "markdown",
      "source": [
        "# Twitter Data Analysis System\n",
        "\n",
        "This notebook demonstrates how to ingest tweet data, perform SQL queries, and analyze the results using a Google Colab environment. The data is loaded into a SQL database, and various queries are executed to extract meaningful insights.\n",
        "\n",
        "---\n",
        "\n",
        "## Step 1: Install Required Libraries\n",
        "\n",
        "Before we start, we need to install the required Python libraries. We will use `SQLAlchemy` for database connections, `pandas` for data manipulation, and `pymysql` for MySQL integration.\n",
        "\n",
        "```python\n",
        "!pip install sqlalchemy pymysql pandas\n"
      ],
      "metadata": {
        "id": "20NY1XdcNjfB"
      }
    },
    {
      "cell_type": "markdown",
      "source": [],
      "metadata": {
        "id": "pZwwqPIpNkR5"
      }
    },
    {
      "cell_type": "code",
      "source": [
        "import pandas as pd\n",
        "from sqlalchemy import create_engine\n",
        "\n",
        "# Replace with your MySQL database credentials\n",
        "db_user = 'your_username'       # Your MySQL username\n",
        "db_password = 'your_password'    # Your MySQL password\n",
        "db_host = 'localhost'            # Database host\n",
        "db_name = 'twitter_data'         # Name of the database\n",
        "\n",
        "# Create a connection string\n",
        "connection_string = f'mysql+pymysql://{db_user}:{db_password}@{db_host}/{db_name}'\n",
        "engine = create_engine(connection_string)\n"
      ],
      "metadata": {
        "id": "U_P6HwvcNrQ0"
      },
      "execution_count": null,
      "outputs": []
    },
    {
      "cell_type": "code",
      "source": [
        "# Load the TSV file into a DataFrame\n",
        "df = pd.read_csv('path_to_file.tsv', sep='\\t')\n",
        "\n",
        "# Write the DataFrame to the SQL database\n",
        "df.to_sql('tweets', con=engine, if_exists='replace', index=False)\n"
      ],
      "metadata": {
        "id": "udQ7i02KNrTm"
      },
      "execution_count": null,
      "outputs": []
    },
    {
      "cell_type": "markdown",
      "source": [
        " Query 1: How many tweets were posted containing the term on each day?"
      ],
      "metadata": {
        "id": "ldDEX0PlN_w8"
      }
    },
    {
      "cell_type": "code",
      "source": [
        "query = \"SELECT DATE(timestamp) as date, COUNT(*) as tweet_count FROM tweets WHERE text LIKE '%music%' GROUP BY date\"\n",
        "daily_tweets = pd.read_sql(query, con=engine)\n",
        "print(daily_tweets)\n"
      ],
      "metadata": {
        "id": "TaiD-o4tOHEM"
      },
      "execution_count": null,
      "outputs": []
    },
    {
      "cell_type": "markdown",
      "source": [
        "Query 2: How many unique users posted a tweet containing the term?"
      ],
      "metadata": {
        "id": "U1mEFyheOKVC"
      }
    },
    {
      "cell_type": "code",
      "source": [
        "query = \"SELECT COUNT(DISTINCT user_id) as unique_users FROM tweets WHERE text LIKE '%music%'\"\n",
        "unique_users = pd.read_sql(query, con=engine)\n",
        "print(unique_users)\n"
      ],
      "metadata": {
        "id": "y81rl6tXOKsr"
      },
      "execution_count": null,
      "outputs": []
    },
    {
      "cell_type": "markdown",
      "source": [
        "Query 3: How many likes did tweets containing the term get, on average?"
      ],
      "metadata": {
        "id": "XCsp1aT1OtiA"
      }
    },
    {
      "cell_type": "code",
      "source": [
        "query = \"SELECT AVG(likes) as average_likes FROM tweets WHERE text LIKE '%music%'\"\n",
        "average_likes = pd.read_sql(query, con=engine)\n",
        "print(average_likes)\n"
      ],
      "metadata": {
        "id": "m7xmCg1kOR7I"
      },
      "execution_count": null,
      "outputs": []
    },
    {
      "cell_type": "markdown",
      "source": [
        "Query 4: Where (in terms of place IDs) did the tweets come from?\n"
      ],
      "metadata": {
        "id": "7iiFG-SIOSPK"
      }
    },
    {
      "cell_type": "code",
      "source": [
        "query = \"SELECT place_id, COUNT(*) as tweet_count FROM tweets WHERE text LIKE '%music%' GROUP BY place_id\"\n",
        "place_distribution = pd.read_sql(query, con=engine)\n",
        "print(place_distribution)\n"
      ],
      "metadata": {
        "id": "9FnpfF7COSjI"
      },
      "execution_count": null,
      "outputs": []
    },
    {
      "cell_type": "markdown",
      "source": [
        "Query 5:What times of day were the tweets posted at?"
      ],
      "metadata": {
        "id": "j3UYNIdfOSyK"
      }
    },
    {
      "cell_type": "code",
      "source": [
        "query = \"SELECT strftime('%H', timestamp) as hour, COUNT(*) as tweet_count FROM tweets WHERE text LIKE '%music%' GROUP BY hour\"\n",
        "time_distribution = pd.read_sql(query, con=engine)\n",
        "print(time_distribution)\n"
      ],
      "metadata": {
        "id": "75yYW8lyOTCc"
      },
      "execution_count": null,
      "outputs": []
    },
    {
      "cell_type": "markdown",
      "source": [
        "Query 6:Which user posted the most tweets containing the term?\n"
      ],
      "metadata": {
        "id": "XbUTSdhcO6WA"
      }
    },
    {
      "cell_type": "code",
      "source": [
        "query = \"SELECT user_id, COUNT(*) as tweet_count FROM tweets WHERE text LIKE '%music%' GROUP BY user_id ORDER BY tweet_count DESC LIMIT 1\"\n",
        "top_user = pd.read_sql(query, con=engine)\n",
        "print(top_user)\n"
      ],
      "metadata": {
        "id": "YcrrFppnO6t2"
      },
      "execution_count": null,
      "outputs": []
    },
    {
      "cell_type": "code",
      "source": [],
      "metadata": {
        "id": "vAI7qUkcPdwB"
      },
      "execution_count": null,
      "outputs": []
    }
  ]
}